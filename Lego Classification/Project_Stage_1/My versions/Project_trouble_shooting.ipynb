{
 "cells": [
  {
   "cell_type": "code",
   "execution_count": null,
   "metadata": {},
   "outputs": [],
   "source": [
    "# Group 8\n",
    "#Amer Alhamwi 15976814\n",
    "#Wael Hamid   80105687# Group 8\n"
   ]
  },
  {
   "cell_type": "code",
   "execution_count": 40,
   "metadata": {},
   "outputs": [],
   "source": [
    "#This cell imports needed libraries for image processing,\n",
    "#logistic regression modeling, and evaluating using confusion matrix and accuracy score\n",
    "import os\n",
    "import numpy as np\n",
    "from PIL import Image  # Already importing 'Image' from 'PIL'\n",
    "from sklearn.linear_model import LogisticRegression\n",
    "from sklearn.metrics import confusion_matrix, accuracy_score\n",
    "import matplotlib.pyplot as plt\n"
   ]
  },
  {
   "cell_type": "code",
   "execution_count": 41,
   "metadata": {},
   "outputs": [],
   "source": [
    "#This cell defines the folder to load images from, it also crops the images for a better training accuracy\n",
    "#and lastly assigning labels(classfaing) based on the first letter of the image names and stores them into an array.  \n",
    "\n",
    "\n",
    "# Declare the two folders names for image files\n",
    "path = \"C:/Users/Admin/Desktop/ENGR 418/Assignments/Project_Stage_1\"\n",
    "\n",
    "def test_function(path):\n",
    "    folder_training = os.path.join(path,\"training\")\n",
    "    folder_testing = os.path.join(path,\"testing\")\n",
    "    \n",
    "    return folder_training, folder_testing\n",
    "\n",
    "\n",
    "# Define the function before calling it\n",
    "def get_image_data(folder):\n",
    "    x = []\n",
    "    y = []\n",
    "\n",
    "    for pic in os.listdir(f\"{folder}/\"):\n",
    "        # opening image using image from PIL\n",
    "        image = Image.open(f\"{folder}/{pic}\").convert(\"L\")\n",
    "        # Crop the images to the center to make it more accurate\n",
    "        top = int(np.floor(image.height / 4))\n",
    "        bottom = int(np.ceil(image.height * (3 / 4)))\n",
    "        left = int(np.floor(image.width / 4))\n",
    "        right = int(np.ceil(image.width * (3 / 4)))\n",
    "        #print(image.size)\n",
    "\n",
    "        # new image is about [500*500] pixels\n",
    "        cropped_image = image.crop((left, top, right, bottom))\n",
    "\n",
    "        # resizing images to 64*64 pixels (4096)\n",
    "        resized_image = cropped_image.resize((64, 64))\n",
    "        \n",
    "        data = np.asarray(resized_image)  # Convert image to an array\n",
    "        \n",
    "        vec = np.hstack(data)  # Flatten 2D image to a 1D array\n",
    "        \n",
    "        x.append(vec)  # Append the flattened image data to the list\n",
    "\n",
    "        # Assign classes based on first letter/number of the image name\n",
    "        if str.lower(pic[0]) == \"c\":\n",
    "            y.append(0)  # Circle\n",
    "        elif str.lower(pic[0]) == \"r\":\n",
    "            y.append(1)  # Rectangle\n",
    "        elif str.lower(pic[0]) == \"2\":\n",
    "            y.append(2)  # 2x1 Rectangle\n",
    "        else:\n",
    "            y.append(3)  # Square \n",
    "\n",
    "    x = np.array(x)  # Convert to numpy array\n",
    "    y = np.array(y)  # Convert to numpy array\n",
    " \n",
    "    return x, y\n",
    "\n"
   ]
  },
  {
   "cell_type": "code",
   "execution_count": 42,
   "metadata": {},
   "outputs": [
    {
     "name": "stdout",
     "output_type": "stream",
     "text": [
      "Accuracy: 1.0\n",
      "Confusion Matrix:\n",
      " [[36  0  0  0]\n",
      " [ 0 36  0  0]\n",
      " [ 0  0 36  0]\n",
      " [ 0  0  0 36]]\n"
     ]
    }
   ],
   "source": [
    "# This cell loads the training data, trains a Logistic \n",
    "# Regression model with the training set, and then\n",
    "# evaluates the model by predicting on the same training data.\n",
    "\n",
    "# Set paths for training and testing folders based on the project path\n",
    "folder_training, folder_testing= test_function(path)\n",
    "\n",
    "# Load the training data\n",
    "x1_train, y1_train = get_image_data(folder_training)\n",
    "\n",
    "# Train the Logistic Regression model \n",
    "model = LogisticRegression(solver='lbfgs', max_iter=1000)  # Increase max_iter to 1000 or more\n",
    "\n",
    "#print(f\"Data from first directory: {x1_train.shape}, Labels: {y1_train.shape}\")\n",
    "\n",
    "# Train the Logistic Regression model \n",
    "model = LogisticRegression(solver='lbfgs', max_iter=1000)  # Increase max_iter to 1000 \n",
    "model.fit(x1_train, y1_train)\n",
    "\n",
    "y_pred1 = model.predict(x1_train)\n",
    "\n",
    "print(\"Accuracy:\", accuracy_score(y1_train, y_pred1))\n",
    "print(\"Confusion Matrix:\\n\", confusion_matrix(y1_train, y_pred1))"
   ]
  },
  {
   "cell_type": "code",
   "execution_count": 43,
   "metadata": {},
   "outputs": [
    {
     "name": "stdout",
     "output_type": "stream",
     "text": [
      "Accuracy: 0.9722222222222222\n",
      "Confusion Matrix:\n",
      " [[17  0  0  1]\n",
      " [ 0 18  0  0]\n",
      " [ 0  0 18  0]\n",
      " [ 1  0  0 17]]\n"
     ]
    }
   ],
   "source": [
    "# This cell loads the testing data, and starts predictiong \n",
    "# based on the new test data and then evaluates the model \n",
    "# by predicting on testing data.\n",
    "# Load the testing data\n",
    "x1_test, y1_test = get_image_data(folder_testing)\n",
    "\n",
    "# Predict on the test set\n",
    "y_pred2 = model.predict(x1_test)\n",
    "\n",
    "# Print the accuracy and confusion matrix\n",
    "print(\"Accuracy:\", accuracy_score(y1_test, y_pred2))\n",
    "print(\"Confusion Matrix:\\n\", confusion_matrix(y1_test, y_pred2))"
   ]
  }
 ],
 "metadata": {
  "kernelspec": {
   "display_name": "base",
   "language": "python",
   "name": "python3"
  },
  "language_info": {
   "codemirror_mode": {
    "name": "ipython",
    "version": 3
   },
   "file_extension": ".py",
   "mimetype": "text/x-python",
   "name": "python",
   "nbconvert_exporter": "python",
   "pygments_lexer": "ipython3",
   "version": "3.9.13"
  }
 },
 "nbformat": 4,
 "nbformat_minor": 2
}
