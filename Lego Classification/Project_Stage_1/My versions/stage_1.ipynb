{
 "cells": [
  {
   "cell_type": "code",
   "execution_count": 54,
   "metadata": {},
   "outputs": [],
   "source": [
    "import os\n",
    "import numpy as np\n",
    "from PIL import Image  # Already importing 'Image' from 'PIL'\n",
    "from sklearn.linear_model import LogisticRegression\n",
    "from sklearn.metrics import confusion_matrix, accuracy_score\n",
    "import matplotlib.pyplot as plt\n"
   ]
  },
  {
   "cell_type": "code",
   "execution_count": 57,
   "metadata": {},
   "outputs": [
    {
     "name": "stdout",
     "output_type": "stream",
     "text": [
      "0.9722222222222222\n",
      "[[17  0  0  1]\n",
      " [ 0 18  0  0]\n",
      " [ 0  0 18  0]\n",
      " [ 1  0  0 17]]\n"
     ]
    }
   ],
   "source": [
    "\n",
    "\n",
    "# Declare the two directory names for your image files\n",
    "rel_dir1 = \"C:/Users/Admin/Desktop/ENGR 418/Assignments/Project_Stage_1/training\"\n",
    "rel_dir2 = \"C:/Users/Admin/Desktop/ENGR 418/Assignments/Project_Stage_1/testing\"\n",
    "\n",
    "x1_train, y1_train = get_image_data(rel_dir1)\n",
    "x1_test, y1_test = get_image_data(rel_dir2)\n",
    "#print(f\"Data from first directory: {x1_train}, Labels: {y1_train}\")\n",
    "\n",
    "# Next, we need to train the model \n",
    "model = LogisticRegression(solver='lbfgs', max_iter=1000)  # Increase max_iter to 1000 or more\n",
    "model.fit(x1_train,y1_train)\n",
    "\n",
    "y_pred = model.predict(x1_test)\n",
    "print(accuracy_score(y1_test,y_pred))\n",
    "print(confusion_matrix(y1_test,y_pred))\n",
    "\n",
    "def get_image_data(fileName):\n",
    "\n",
    "    x = []\n",
    "    y = []\n",
    "\n",
    "    for pic in os.listdir(f\"{fileName}/\"):\n",
    "        # Use 'Image' since it was imported directly from 'PIL'\n",
    "        image = Image.open(f\"{fileName}/{pic}\").convert(\"L\")\n",
    "        \n",
    "        image = Image.fromarray(np.array(image)[\n",
    "            int(np.floor(image.height / 4)) : int(np.ceil(3 * image.height / 4)),\n",
    "            int(np.floor(image.width / 4)) : int(np.ceil(3 * image.width / 4))\n",
    "        ])\n",
    "        image = image.resize((64,64))  # Resize the image to 64x64 pixels\n",
    "        \n",
    "        data = np.asarray(image)  # Convert image to numpy array\n",
    "        \n",
    "        vec = np.hstack(data)  # Flatten 2D image to 1D array\n",
    "        \n",
    "        x.append(vec)  # Append the flattened image data to the list\n",
    "\n",
    "        # Assign a label based on the first letter of the filename\n",
    "        if str.lower(pic[0]) == \"c\":\n",
    "            y.append(0)  # Circle\n",
    "        elif str.lower(pic[0]) == \"r\":\n",
    "            y.append(1)  # Rectangle\n",
    "        elif str.lower(pic[0]) == \"2\":\n",
    "            y.append(2)  # 2x1 Rectangle\n",
    "        else:\n",
    "            y.append(3)  # Square or other shape\n",
    "\n",
    "    x = np.array(x)  # Convert to numpy array\n",
    "    y = np.array(y)  # Convert to numpy array\n",
    "    \n",
    "    return x, y\n"
   ]
  },
  {
   "cell_type": "code",
   "execution_count": 8,
   "metadata": {},
   "outputs": [],
   "source": []
  }
 ],
 "metadata": {
  "kernelspec": {
   "display_name": "base",
   "language": "python",
   "name": "python3"
  },
  "language_info": {
   "codemirror_mode": {
    "name": "ipython",
    "version": 3
   },
   "file_extension": ".py",
   "mimetype": "text/x-python",
   "name": "python",
   "nbconvert_exporter": "python",
   "pygments_lexer": "ipython3",
   "version": "3.9.13"
  }
 },
 "nbformat": 4,
 "nbformat_minor": 2
}
